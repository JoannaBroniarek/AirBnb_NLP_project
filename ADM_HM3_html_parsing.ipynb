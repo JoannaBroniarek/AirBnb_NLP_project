{
 "cells": [
  {
   "cell_type": "code",
   "execution_count": 4,
   "metadata": {},
   "outputs": [
    {
     "name": "stdout",
     "output_type": "stream",
     "text": [
      "<Response [200]>\n"
     ]
    }
   ],
   "source": [
    "import requests\n",
    "from bs4 import BeautifulSoup\n",
    "\n",
    "url=\"https://www.airbnb.com/rooms/17481455?location=Cibolo%2C%20TX\"\n",
    "response = requests.get(url)\n",
    "\n",
    "# Reading the html text using bs4 library\n",
    "soup = BeautifulSoup(response.text, \"html5lib\")"
   ]
  },
  {
   "cell_type": "code",
   "execution_count": 69,
   "metadata": {},
   "outputs": [],
   "source": [
    "def get_rating_score(soup_html):\n",
    "    for element in soup_html.find(id=\"reviews\"):\n",
    "        # example tag in html text: <div content=\"4.5\" itemprop=\"ratingValue\">\n",
    "        r = element.find_all(\"div\", itemprop=\"ratingValue\")\n",
    "        r = str(r[0])\n",
    "        try:\n",
    "            rating_score = float(r[14:17]) #if it is a float type i.e. 4.5\n",
    "        except:\n",
    "            rating_score = float(r[14:15]) #if it is an int type i.e. 4\n",
    "        return rating_score"
   ]
  },
  {
   "cell_type": "code",
   "execution_count": 70,
   "metadata": {},
   "outputs": [
    {
     "data": {
      "text/plain": [
       "4.5"
      ]
     },
     "execution_count": 70,
     "metadata": {},
     "output_type": "execute_result"
    }
   ],
   "source": [
    "get_rating_score(soup)"
   ]
  },
  {
   "cell_type": "code",
   "execution_count": 6,
   "metadata": {},
   "outputs": [],
   "source": [
    "# recipies = []\n",
    "# for link in soup.find_all('a'):\n",
    "#     if link.get('href').startswith(\"/food/recipes/\") and \"search\" not in link.get('href'):\n",
    "#         recipies.append(link.get('href'))"
   ]
  },
  {
   "cell_type": "code",
   "execution_count": null,
   "metadata": {},
   "outputs": [],
   "source": [
    "# soup\n",
    "# class_amenities = \"_ncwphzu\""
   ]
  }
 ],
 "metadata": {
  "kernelspec": {
   "display_name": "Python 3",
   "language": "python",
   "name": "python3"
  },
  "language_info": {
   "codemirror_mode": {
    "name": "ipython",
    "version": 3
   },
   "file_extension": ".py",
   "mimetype": "text/x-python",
   "name": "python",
   "nbconvert_exporter": "python",
   "pygments_lexer": "ipython3",
   "version": "3.6.4"
  }
 },
 "nbformat": 4,
 "nbformat_minor": 2
}
